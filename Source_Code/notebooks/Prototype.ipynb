{
 "cells": [
  {
   "cell_type": "code",
   "execution_count": 1,
   "metadata": {
    "collapsed": false
   },
   "outputs": [
    {
     "data": {
      "text/plain": [
       "<matplotlib.figure.Figure at 0x1062c5e80>"
      ]
     },
     "metadata": {},
     "output_type": "display_data"
    }
   ],
   "source": [
    "import os\n",
    "import sys\n",
    "sys.path.insert(0, os.path.abspath('..'))\n",
    "import time\n",
    "import math\n",
    "import re\n",
    "\n",
    "import cv2\n",
    "import glob\n",
    "import numpy as np\n",
    "import pandas as pd\n",
    "from matplotlib import pyplot as plt\n",
    "import matplotlib\n",
    "import matplotlib.cm as cm\n",
    "from PIL import Image as Im\n",
    "\n",
    "from image.image import Image\n",
    "from control.control import Control\n",
    "from control import control_funcs as c_funcs\n",
    "from utils import utils\n",
    "\n",
    "%matplotlib inline\n",
    "plt.figure(figsize=(40,40))\n",
    "\n",
    "%load_ext autoreload\n",
    "%autoreload 2"
   ]
  },
  {
   "cell_type": "code",
   "execution_count": 6,
   "metadata": {
    "collapsed": false,
    "scrolled": true
   },
   "outputs": [],
   "source": [
    "# This currently works by importing from the code base, to make it work with the code bellow\n",
    "# move this cell all the way to the bottom and rerun all cells by click Kernel at the top then\n",
    "# selecting 'Restart and Run All'\n",
    "\n",
    "# Create a control for the images and there assocaited data to be\n",
    "# stored in\n",
    "basepath = 'set/the/path/to/images'\n",
    "\n",
    "c = Control('abrasion014_abraded.jpg', \n",
    "            'abrasion014_after1.jpg',\n",
    "            basepath = '/Users/adampaquette/notebooks/Abrasion Images/')\n",
    "\n",
    "# Add a second image pair\n",
    "c.add_image_pair('abrasion020_abraded.jpg', \n",
    "                 'abrasion020_after2.jpg',\n",
    "                 basepath = '/Users/adampaquette/notebooks/Abrasion Images/')\n",
    "\n",
    "# Add a second image pair\n",
    "c.add_image_pair('abrasion014_marked.png', \n",
    "                 'abrasion014_cropped.png',\n",
    "                 basepath = '/Users/adampaquette/notebooks/Abrasion Images/RockE/')\n",
    "\n",
    "# Add a second image pair\n",
    "c.add_image_pair('abrasion020_marked.png', \n",
    "                 'abrasion020_cropped.png',\n",
    "                 basepath = '/Users/adampaquette/notebooks/Abrasion Images/RockE/')\n",
    "\n",
    "# Apply normalization to each image pair\n",
    "c.apply_func(c_funcs.normalize_func)\n",
    "\n",
    "# Create a lab image for the images in the data frame\n",
    "c.apply_func(c_funcs.convert_func, from_image = 'orig_image_data', to_image = 'lab_image_data', \n",
    "             conversion_type = cv2.COLOR_BGR2LAB)\n",
    "\n",
    "c.apply_func(c_funcs.convert_func, from_image = 'orig_image_data', to_image = 'rgb_image_data', \n",
    "             conversion_type = cv2.COLOR_BGR2RGB)\n",
    "\n",
    "# Apply the subtract function to each pair and generate a subtraction mask\n",
    "c.apply_func(func = c_funcs.subtract_func, data = 'orig_image_data',useNorm = True)\n",
    "\n",
    "c.apply_func(func = c_funcs.color_segment_func, rock_type = 'RockE')"
   ]
  },
  {
   "cell_type": "code",
   "execution_count": null,
   "metadata": {
    "collapsed": false,
    "scrolled": true
   },
   "outputs": [],
   "source": [
    "step_size = 1\n",
    "c.apply_func(func = c_funcs.analyze_mask_func, mask = 'color_mask', mask_type = 'block', buffer = 5, step = step_size)"
   ]
  },
  {
   "cell_type": "code",
   "execution_count": null,
   "metadata": {
    "collapsed": false
   },
   "outputs": [],
   "source": [
    "dataframe_idx = 2\n",
    "before_image = c.dataframe.iloc[dataframe_idx ]['before_image']\n",
    "after_image = c.dataframe.iloc[dataframe_idx ]['after_image']\n",
    "plt.imshow(after_image['analyzed_image'], cmap = \"RdYlGn\", interpolation = 'nearest')"
   ]
  },
  {
   "cell_type": "code",
   "execution_count": null,
   "metadata": {
    "collapsed": true
   },
   "outputs": [],
   "source": []
  }
 ],
 "metadata": {
  "anaconda-cloud": {},
  "kernelspec": {
   "display_name": "Python 3",
   "language": "python",
   "name": "python3"
  },
  "language_info": {
   "codemirror_mode": {
    "name": "ipython",
    "version": 3
   },
   "file_extension": ".py",
   "mimetype": "text/x-python",
   "name": "python",
   "nbconvert_exporter": "python",
   "pygments_lexer": "ipython3",
   "version": "3.5.2"
  }
 },
 "nbformat": 4,
 "nbformat_minor": 1
}
