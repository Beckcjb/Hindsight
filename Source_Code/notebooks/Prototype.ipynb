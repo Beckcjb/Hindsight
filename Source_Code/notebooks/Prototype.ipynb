{
 "cells": [
  {
   "cell_type": "code",
   "execution_count": 1,
   "metadata": {
    "collapsed": false
   },
   "outputs": [],
   "source": [
    "import os\n",
    "import sys\n",
    "sys.path.insert(0, os.path.abspath('..'))\n",
    "\n",
    "import cv2\n",
    "import glob\n",
    "import numpy as np\n",
    "import pandas as pd\n",
    "from matplotlib import pyplot as plt\n",
    "from PIL import Image as Im\n",
    "\n",
    "from image.image import Image\n",
    "from control.control import Control\n",
    "from utils import utils\n",
    "\n",
    "%matplotlib inline"
   ]
  },
  {
   "cell_type": "code",
   "execution_count": 2,
   "metadata": {
    "collapsed": false
   },
   "outputs": [
    {
     "data": {
      "text/plain": [
       "<matplotlib.image.AxesImage at 0x126335c50>"
      ]
     },
     "execution_count": 2,
     "metadata": {},
     "output_type": "execute_result"
    },
    {
     "data": {
      "image/png": "[encoded data removed]",
      "text/plain": [
       "<matplotlib.figure.Figure at 0x104b597f0>"
      ]
     },
     "metadata": {},
     "output_type": "display_data"
    },
    {
     "data": {
      "image/png": "[encoded data removed]",
      "text/plain": [
       "<matplotlib.figure.Figure at 0x1191d5208>"
      ]
     },
     "metadata": {},
     "output_type": "display_data"
    }
   ],
   "source": [
    "# This currently works by importing from the code base, to make it work with the code bellow\n",
    "# move this cell all the way to the bottom and rerun all cells by click Kernel at the top then\n",
    "# selecting 'Restart and Run All'\n",
    "\n",
    "# Create a control for the images and there assocaited data to be\n",
    "# stored in\n",
    "c = Control('abrasion014_abraded.JPG', \n",
    "            'abrasion014_after1.JPG',\n",
    "            basepath = '/Users/adampaquette/notebooks/Abrasion Images/')\n",
    "\n",
    "# Add a second image pair\n",
    "c.add_image_pair('abrasion014_abraded.JPG', \n",
    "                 'abrasion014_after2.JPG',\n",
    "                 basepath = '/Users/adampaquette/notebooks/Abrasion Images/')\n",
    "\n",
    "# Apply normalization to each image pair\n",
    "c.apply_func(utils.normalize_func)\n",
    "\n",
    "# Apply the subtract function to each pair and generate a subtraction mask\n",
    "c.apply_func(utils.subtract_func)\n",
    "\n",
    "# Display the masks\n",
    "plt.figure(0)\n",
    "plt.imshow(c.dataframe.after_image.loc[0].sub_mask)\n",
    "\n",
    "plt.figure(1)\n",
    "plt.imshow(c.dataframe.after_image.loc[1].sub_mask)"
   ]
  },
  {
   "cell_type": "code",
   "execution_count": 3,
   "metadata": {
    "collapsed": false
   },
   "outputs": [],
   "source": [
    "def normalize(image, newMin, newMax):\n",
    "    image = ((image - image.min()) * ((newMax - newMin)/(image.max() - image.min()))) + newMin\n",
    "    return image"
   ]
  },
  {
   "cell_type": "code",
   "execution_count": 4,
   "metadata": {
    "collapsed": false
   },
   "outputs": [],
   "source": [
    "class Image:\n",
    "    \n",
    "    def __init__(self, basepath, image, readType = 0):\n",
    "        self.image_data = {}\n",
    "        self.image_name = image\n",
    "        self.image_data['orig_image_data'] = cv2.imread(basepath + image, readType)\n",
    "    \n",
    "    def __getitem__(self, index):\n",
    "        return self.image_data[index]\n",
    "    \n",
    "    def normalize_image(self, newMin = 0, newMax = 1):\n",
    "        self.image_data['norm_image_data'] = normalize(self.image_data['orig_image_data'], 0, 1)\n",
    "    \n",
    "    def xy_extent(self):\n",
    "        return (len(self.image_data['orig_image_data']),\n",
    "                len(self.image_data['orig_image_data'][0]))"
   ]
  },
  {
   "cell_type": "code",
   "execution_count": 5,
   "metadata": {
    "collapsed": false
   },
   "outputs": [],
   "source": [
    "class Control:\n",
    "    \n",
    "    def __init__(self, before_image, after_image, basepath, *args, **kwargs):\n",
    "        # Loads a list of images and their associated pairs\n",
    "        self.dataframe = pd.DataFrame(data = {'image_group': before_image,\n",
    "                                              'before_image': [Image(basepath, before_image, *args, **kwargs)], \n",
    "                                              'after_image':  [Image(basepath, after_image, *args, **kwargs)], \n",
    "                                              'output_image': [None]})\n",
    "        \n",
    "    def add_image_pair(self, before_image, after_image, basepath, *args, **kwargs):\n",
    "        new_pair = pd.DataFrame(data = {'image_group': before_image,\n",
    "                                        'before_image': [Image(basepath, before_image, *args, **kwargs)], \n",
    "                                        'after_image':  [Image(basepath, after_image, *args, **kwargs)], \n",
    "                                        'output_image': [None]})\n",
    "        self.dataframe = pd.concat([self.dataframe, new_pair], ignore_index=True)\n",
    "     \n",
    "    def apply_func(self, func, *args, **kwargs):\n",
    "        self.dataframe.apply(func, axis = 1, *args, **kwargs)"
   ]
  },
  {
   "cell_type": "code",
   "execution_count": 6,
   "metadata": {
    "collapsed": true
   },
   "outputs": [],
   "source": [
    "def subtract_func(row, varThresh = .055, varInit = .3, varMix = 0, varMax = 1, useNorm = True):\n",
    "    if useNorm:\n",
    "        try:\n",
    "            img1 = row['before_image']['norm_image_data']\n",
    "            img2 = row['after_image']['norm_image_data']\n",
    "        except KeyError:\n",
    "            raise KeyError('Images do not have their associated normalized images.')\n",
    "    else:\n",
    "        img1 = row['before_image']['orig_image_data']\n",
    "        img2 = row['after_image']['orig_image_data']\n",
    "\n",
    "    fgbg = cv2.createBackgroundSubtractorMOG2(detectShadows = False)\n",
    "    fgbg.setVarThreshold(.055)\n",
    "    fgbg.setVarInit(.3)\n",
    "    fgbg.setVarMax(1)\n",
    "    fgbg.setVarMin(0)\n",
    "    fgbg.apply(img2)\n",
    "    img_mask = fgbg.apply(img1)\n",
    "    row['before_image'].sub_mask = img_mask\n",
    "    row['after_image'].sub_mask = img_mask\n",
    "    \n",
    "def normalize_func(row, newMin = 0, newMax = 1):\n",
    "    row['before_image'].normalize_image(newMin = newMin, newMax = newMax)\n",
    "    row['after_image'].normalize_image(newMin = newMin, newMax = newMax)\n",
    "    \n",
    "def hist_estimation(row, *args, **kwargs):\n",
    "    print(row)"
   ]
  }
 ],
 "metadata": {
  "anaconda-cloud": {},
  "kernelspec": {
   "display_name": "Python [conda env:hindsight]",
   "language": "python",
   "name": "conda-env-hindsight-py"
  },
  "language_info": {
   "codemirror_mode": {
    "name": "ipython",
    "version": 3
   },
   "file_extension": ".py",
   "mimetype": "text/x-python",
   "name": "python",
   "nbconvert_exporter": "python",
   "pygments_lexer": "ipython3",
   "version": "3.5.4"
  }
 },
 "nbformat": 4,
 "nbformat_minor": 1
}
